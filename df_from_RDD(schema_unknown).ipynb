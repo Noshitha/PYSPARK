{
 "cells": [
  {
   "cell_type": "code",
   "execution_count": 1,
   "metadata": {},
   "outputs": [],
   "source": [
    "import findspark\n",
    "findspark.init('/usr/local/spark/')\n",
    "import pyspark"
   ]
  },
  {
   "cell_type": "code",
   "execution_count": 2,
   "metadata": {},
   "outputs": [],
   "source": [
    "from pyspark.sql import SparkSession\n",
    "spark = SparkSession.builder.appName(\"Python Spark SQL example\").getOrCreate()"
   ]
  },
  {
   "cell_type": "code",
   "execution_count": 3,
   "metadata": {},
   "outputs": [],
   "source": [
    "from pyspark.sql import Row"
   ]
  },
  {
   "cell_type": "code",
   "execution_count": 4,
   "metadata": {},
   "outputs": [],
   "source": [
    "sc = spark.sparkContext"
   ]
  },
  {
   "cell_type": "code",
   "execution_count": 5,
   "metadata": {},
   "outputs": [],
   "source": [
    "clines = sc.textFile(\"/home/hduser/Downloads/sharedfolder/customers.tsv\")"
   ]
  },
  {
   "cell_type": "code",
   "execution_count": 6,
   "metadata": {},
   "outputs": [],
   "source": [
    "from pyspark.sql.types import *"
   ]
  },
  {
   "cell_type": "code",
   "execution_count": 7,
   "metadata": {},
   "outputs": [],
   "source": [
    "cfields = clines.map(lambda l: l.split(\"\\t\"))"
   ]
  },
  {
   "cell_type": "code",
   "execution_count": 8,
   "metadata": {},
   "outputs": [],
   "source": [
    "customers = cfields.map(lambda p: (p[0], p[1], p[2], p[3], p[4]))"
   ]
  },
  {
   "cell_type": "markdown",
   "metadata": {},
   "source": [
    "Schema encoding in a string"
   ]
  },
  {
   "cell_type": "code",
   "execution_count": 10,
   "metadata": {},
   "outputs": [],
   "source": [
    "schemaString = \"cid cname ccity cstate czip\""
   ]
  },
  {
   "cell_type": "code",
   "execution_count": 11,
   "metadata": {},
   "outputs": [],
   "source": [
    "columns = [StructField(column_name, StringType(),True) for column_name in schemaString.split()]"
   ]
  },
  {
   "cell_type": "code",
   "execution_count": 13,
   "metadata": {},
   "outputs": [],
   "source": [
    "schema = StructType(columns)"
   ]
  },
  {
   "cell_type": "code",
   "execution_count": 14,
   "metadata": {},
   "outputs": [
    {
     "data": {
      "text/plain": [
       "StructType(List(StructField(cid,StringType,true),StructField(cname,StringType,true),StructField(ccity,StringType,true),StructField(cstate,StringType,true),StructField(czip,StringType,true)))"
      ]
     },
     "execution_count": 14,
     "metadata": {},
     "output_type": "execute_result"
    }
   ],
   "source": [
    "columns\n",
    "schema"
   ]
  },
  {
   "cell_type": "code",
   "execution_count": 15,
   "metadata": {},
   "outputs": [],
   "source": [
    "customerDF = spark.createDataFrame(customers, schema)"
   ]
  },
  {
   "cell_type": "code",
   "execution_count": 16,
   "metadata": {},
   "outputs": [
    {
     "name": "stdout",
     "output_type": "stream",
     "text": [
      "root\n",
      " |-- cid: string (nullable = true)\n",
      " |-- cname: string (nullable = true)\n",
      " |-- ccity: string (nullable = true)\n",
      " |-- cstate: string (nullable = true)\n",
      " |-- czip: string (nullable = true)\n",
      "\n"
     ]
    }
   ],
   "source": [
    "customerDF.printSchema()"
   ]
  },
  {
   "cell_type": "code",
   "execution_count": 17,
   "metadata": {},
   "outputs": [
    {
     "name": "stdout",
     "output_type": "stream",
     "text": [
      "+----------------+\n",
      "|           cname|\n",
      "+----------------+\n",
      "|     Mary Torres|\n",
      "|      Jose Haley|\n",
      "|      Mary Smith|\n",
      "|  Richard Maddox|\n",
      "|  Margaret Booth|\n",
      "|  Mary Henderson|\n",
      "|     Lisa Walker|\n",
      "|   Jonathan Hill|\n",
      "|Carolyn Sheppard|\n",
      "|    Mary Mendoza|\n",
      "|   Michael Smith|\n",
      "|    James Holmes|\n",
      "|     Mary Dawson|\n",
      "|    Adam Marquez|\n",
      "|    Gloria Smith|\n",
      "|       Mary Webb|\n",
      "|  Nancy Alvarado|\n",
      "|  Russell Flores|\n",
      "|    Denise Smith|\n",
      "|  Jose Dickerson|\n",
      "+----------------+\n",
      "only showing top 20 rows\n",
      "\n"
     ]
    }
   ],
   "source": [
    "customerDF.select(\"cname\").show()"
   ]
  },
  {
   "cell_type": "code",
   "execution_count": 18,
   "metadata": {},
   "outputs": [
    {
     "name": "stdout",
     "output_type": "stream",
     "text": [
      "+----------------+-------------+\n",
      "|           cname|        ccity|\n",
      "+----------------+-------------+\n",
      "|     Mary Torres|       Caguas|\n",
      "|      Jose Haley|     Columbus|\n",
      "|      Mary Smith|      Houston|\n",
      "|  Richard Maddox|       Caguas|\n",
      "|  Margaret Booth|    Arlington|\n",
      "|  Mary Henderson|       Caguas|\n",
      "|     Lisa Walker|       Caguas|\n",
      "|   Jonathan Hill|      Phoenix|\n",
      "|Carolyn Sheppard|Pompano Beach|\n",
      "|    Mary Mendoza|       Caguas|\n",
      "|   Michael Smith|       Caguas|\n",
      "|    James Holmes|     Hilliard|\n",
      "|     Mary Dawson|       Caguas|\n",
      "|    Adam Marquez|  San Antonio|\n",
      "|    Gloria Smith|       Caguas|\n",
      "|       Mary Webb|   San Marcos|\n",
      "|  Nancy Alvarado|     Flushing|\n",
      "|  Russell Flores|       Caguas|\n",
      "|    Denise Smith|    Rego Park|\n",
      "|  Jose Dickerson|         Mesa|\n",
      "+----------------+-------------+\n",
      "only showing top 20 rows\n",
      "\n"
     ]
    }
   ],
   "source": [
    "customerDF.select(customerDF['cname'],customerDF['ccity']).show()"
   ]
  },
  {
   "cell_type": "code",
   "execution_count": 19,
   "metadata": {},
   "outputs": [
    {
     "name": "stdout",
     "output_type": "stream",
     "text": [
      "+-----+----------------+---------------+------+-----+\n",
      "|  cid|           cname|          ccity|cstate| czip|\n",
      "+-----+----------------+---------------+------+-----+\n",
      "| 5577|      Mary Smith|        Modesto|    CA|95350|\n",
      "| 1745|      Mary Smith|Rowland Heights|    CA|91748|\n",
      "|11444|Kathleen Patrick|      San Diego|    CA|92109|\n",
      "| 8846|    Thomas Smith|          Indio|    CA|92201|\n",
      "| 6237|  Bobby Anderson|       El Cajon|    CA|92020|\n",
      "| 4085|       Mary Carr|  Panorama City|    CA|91402|\n",
      "| 8705|  Patricia Smith|       Stockton|    CA|95207|\n",
      "| 3669|       Mary Soto| San Bernardino|    CA|92410|\n",
      "| 6101|      Mary Smith|    Los Angeles|    CA|90033|\n",
      "|11697|  Jessica Thomas|  Laguna Niguel|    CA|92677|\n",
      "| 1295|   Theresa Lopez|       Winnetka|    CA|91306|\n",
      "| 4814|     Paul Suarez|    Simi Valley|    CA|93065|\n",
      "| 8530|   William Smith|       Highland|    CA|92346|\n",
      "| 3846|    Ronald Lewis|        Ontario|    CA|91764|\n",
      "|10476|     John Hodges|       Cerritos|    CA|90703|\n",
      "|10243|  Donna Anderson|    Los Angeles|    CA|90034|\n",
      "|11595|   Zachary Jones|        Modesto|    CA|95355|\n",
      "|  847|  Jerry Ferguson|      San Diego|    CA|92102|\n",
      "| 3440|    Mary Edwards|        Salinas|    CA|93905|\n",
      "| 3400|     Frank Lewis|  Moreno Valley|    CA|92557|\n",
      "+-----+----------------+---------------+------+-----+\n",
      "only showing top 20 rows\n",
      "\n"
     ]
    }
   ],
   "source": [
    "customerDF.filter(customerDF['cstate']=='CA').show()"
   ]
  },
  {
   "cell_type": "code",
   "execution_count": 20,
   "metadata": {},
   "outputs": [
    {
     "name": "stdout",
     "output_type": "stream",
     "text": [
      "+------+-----+\n",
      "|cstate|count|\n",
      "+------+-----+\n",
      "|    AZ|   19|\n",
      "|    SC|    2|\n",
      "|    LA|    7|\n",
      "|    MN|    1|\n",
      "|    NJ|   19|\n",
      "|    DC|    4|\n",
      "|    OR|    4|\n",
      "|    VA|   14|\n",
      "|    RI|    2|\n",
      "|    KY|    1|\n",
      "|    MI|   28|\n",
      "|    NV|   16|\n",
      "|    WI|    9|\n",
      "|    ID|    2|\n",
      "|    CA|  187|\n",
      "|    CT|    8|\n",
      "|    NC|   19|\n",
      "|    MD|   19|\n",
      "|    DE|    1|\n",
      "|    MO|   13|\n",
      "+------+-----+\n",
      "only showing top 20 rows\n",
      "\n"
     ]
    }
   ],
   "source": [
    "customerDF.groupBy(\"cstate\").count().show()"
   ]
  },
  {
   "cell_type": "code",
   "execution_count": 21,
   "metadata": {},
   "outputs": [],
   "source": [
    "customerDF.createOrReplaceTempView(\"customers\")"
   ]
  },
  {
   "cell_type": "code",
   "execution_count": 22,
   "metadata": {},
   "outputs": [],
   "source": [
    "cstate50 = spark.sql(\"Select cstate, count(*) as sttcount FROM customers GROUP BY cstate Having sttcount>=50\")"
   ]
  },
  {
   "cell_type": "code",
   "execution_count": 23,
   "metadata": {},
   "outputs": [
    {
     "name": "stdout",
     "output_type": "stream",
     "text": [
      "+------+--------+\n",
      "|cstate|sttcount|\n",
      "+------+--------+\n",
      "|    CA|     187|\n",
      "|    NY|      79|\n",
      "|    TX|      62|\n",
      "|    PR|     505|\n",
      "+------+--------+\n",
      "\n"
     ]
    }
   ],
   "source": [
    "cstate50.show()"
   ]
  },
  {
   "cell_type": "code",
   "execution_count": 24,
   "metadata": {},
   "outputs": [
    {
     "name": "stdout",
     "output_type": "stream",
     "text": [
      "root\n",
      " |-- cstate: string (nullable = true)\n",
      " |-- sttcount: long (nullable = false)\n",
      "\n"
     ]
    }
   ],
   "source": [
    "cstate50.printSchema()"
   ]
  },
  {
   "cell_type": "code",
   "execution_count": 25,
   "metadata": {},
   "outputs": [
    {
     "data": {
      "text/plain": [
       "pyspark.sql.dataframe.DataFrame"
      ]
     },
     "execution_count": 25,
     "metadata": {},
     "output_type": "execute_result"
    }
   ],
   "source": [
    "type(cstate50)"
   ]
  },
  {
   "cell_type": "code",
   "execution_count": null,
   "metadata": {},
   "outputs": [],
   "source": []
  }
 ],
 "metadata": {
  "kernelspec": {
   "display_name": "Python 3",
   "language": "python",
   "name": "python3"
  },
  "language_info": {
   "codemirror_mode": {
    "name": "ipython",
    "version": 3
   },
   "file_extension": ".py",
   "mimetype": "text/x-python",
   "name": "python",
   "nbconvert_exporter": "python",
   "pygments_lexer": "ipython3",
   "version": "3.5.2"
  }
 },
 "nbformat": 4,
 "nbformat_minor": 2
}
